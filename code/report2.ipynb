{
 "cells": [
  {
   "cell_type": "markdown",
   "metadata": {},
   "source": [
    "# Is There a Seasonality in Number of Likes for Social Media Posts?"
   ]
  },
  {
   "cell_type": "markdown",
   "metadata": {},
   "source": [
    "### Data Science Spring 2017, Olin College of Engineering, Report 2\n",
    "\n",
    "This Jupyter notebook contains code used for analysis of social media posts posted by 15 top mainstream media outlets. Dataset used for this analysis is created by Patrick Martincheck, and can be obtained through [data.world](https://data.world/martinchek/2012-2016-facebook-posts).\n",
    "\n",
    "Report that goes with this notebook can be found [here](https://github.com/SungwooPark/ThinkStats2/blob/master/reports/report2.md)."
   ]
  },
  {
   "cell_type": "code",
   "execution_count": 5,
   "metadata": {
    "collapsed": true
   },
   "outputs": [],
   "source": [
    "import thinkstats2\n",
    "import pandas\n",
    "import thinkplot\n",
    "import numpy as np\n",
    "import statsmodels.tsa.stattools as smtsa\n",
    "\n",
    "%matplotlib inline"
   ]
  },
  {
   "cell_type": "markdown",
   "metadata": {},
   "source": [
    "## Importing and structuring data"
   ]
  },
  {
   "cell_type": "code",
   "execution_count": 6,
   "metadata": {
    "collapsed": false
   },
   "outputs": [],
   "source": [
    "#dictionary of dataframes\n",
    "dfs = {}\n",
    "\n",
    "media_names = [\"cnn\",\"huff\",\"la_times\",\"npr\",\"nbc\",\"fox\",\"fox_friends\",\"cbs\",\"bbc\",\"abc\",\"wsj\",\"nyt\",\"wash_post\",\"time\",\"usa_today\"]\n",
    "\n",
    "for name in media_names:\n",
    "    dfs[name] = pandas.read_csv(name+\"_mod.csv\", encoding = \"ISO-8859-1\", quotechar='\"',error_bad_lines=False, parse_dates = [19])"
   ]
  },
  {
   "cell_type": "markdown",
   "metadata": {},
   "source": [
    "I created a dictionary of dataframs, in which a key is a name of media outlet and a value is a corresponding dataframe. Following is how the dataframe for each media outlet is structured."
   ]
  },
  {
   "cell_type": "code",
   "execution_count": 7,
   "metadata": {
    "collapsed": false
   },
   "outputs": [
    {
     "data": {
      "text/html": [
       "<div>\n",
       "<table border=\"1\" class=\"dataframe\">\n",
       "  <thead>\n",
       "    <tr style=\"text-align: right;\">\n",
       "      <th></th>\n",
       "      <th>id</th>\n",
       "      <th>page_id</th>\n",
       "      <th>name</th>\n",
       "      <th>message</th>\n",
       "      <th>description</th>\n",
       "      <th>caption</th>\n",
       "      <th>post_type</th>\n",
       "      <th>status_type</th>\n",
       "      <th>likes_count</th>\n",
       "      <th>comments_count</th>\n",
       "      <th>shares_count</th>\n",
       "      <th>love_count</th>\n",
       "      <th>wow_count</th>\n",
       "      <th>haha_count</th>\n",
       "      <th>sad_count</th>\n",
       "      <th>thankful_count</th>\n",
       "      <th>angry_count</th>\n",
       "      <th>link</th>\n",
       "      <th>picture</th>\n",
       "      <th>posted_at</th>\n",
       "    </tr>\n",
       "  </thead>\n",
       "  <tbody>\n",
       "    <tr>\n",
       "      <th>85369</th>\n",
       "      <td>ï»¿\"18468761129_10154392091781130\"</td>\n",
       "      <td>18468761129</td>\n",
       "      <td>Timeline Photos</td>\n",
       "      <td>See you on the other side.</td>\n",
       "      <td>NaN</td>\n",
       "      <td>NaN</td>\n",
       "      <td>photo</td>\n",
       "      <td>added_photos</td>\n",
       "      <td>16797</td>\n",
       "      <td>504</td>\n",
       "      <td>868</td>\n",
       "      <td>2646</td>\n",
       "      <td>25</td>\n",
       "      <td>267</td>\n",
       "      <td>21</td>\n",
       "      <td>0</td>\n",
       "      <td>52</td>\n",
       "      <td>https://www.facebook.com/HuffingtonPost/photos...</td>\n",
       "      <td>https://scontent.xx.fbcdn.net/v/t1.0-0/p130x13...</td>\n",
       "      <td>2016-11-07 17:19:45</td>\n",
       "    </tr>\n",
       "    <tr>\n",
       "      <th>85370</th>\n",
       "      <td>ï»¿\"18468761129_10154392118616130\"</td>\n",
       "      <td>18468761129</td>\n",
       "      <td>HuffPost Black Voices</td>\n",
       "      <td>NaN</td>\n",
       "      <td>Join HuffPost Black Voicesâ Jacques Morel Jr...</td>\n",
       "      <td>NaN</td>\n",
       "      <td>video</td>\n",
       "      <td>shared_story</td>\n",
       "      <td>100</td>\n",
       "      <td>19</td>\n",
       "      <td>0</td>\n",
       "      <td>2</td>\n",
       "      <td>1</td>\n",
       "      <td>0</td>\n",
       "      <td>5</td>\n",
       "      <td>0</td>\n",
       "      <td>0</td>\n",
       "      <td>https://www.facebook.com/blackvoicesdotcom/vid...</td>\n",
       "      <td>https://scontent.xx.fbcdn.net/v/t15.0-10/s130x...</td>\n",
       "      <td>2016-11-07 17:36:14</td>\n",
       "    </tr>\n",
       "    <tr>\n",
       "      <th>85371</th>\n",
       "      <td>ï»¿\"18468761129_10154392127876130\"</td>\n",
       "      <td>18468761129</td>\n",
       "      <td>Why You Should Vote For Hillary If You're Agai...</td>\n",
       "      <td>'If your candidate focuses on maintaining and ...</td>\n",
       "      <td>I am a doctor who has dedicated her career to ...</td>\n",
       "      <td>huffingtonpost.com</td>\n",
       "      <td>link</td>\n",
       "      <td>shared_story</td>\n",
       "      <td>15197</td>\n",
       "      <td>490</td>\n",
       "      <td>3338</td>\n",
       "      <td>1176</td>\n",
       "      <td>17</td>\n",
       "      <td>82</td>\n",
       "      <td>8</td>\n",
       "      <td>0</td>\n",
       "      <td>39</td>\n",
       "      <td>http://huff.to/2fUmdQH</td>\n",
       "      <td>https://external.xx.fbcdn.net/safe_image.php?d...</td>\n",
       "      <td>2016-11-07 17:41:28</td>\n",
       "    </tr>\n",
       "    <tr>\n",
       "      <th>85372</th>\n",
       "      <td>ï»¿\"18468761129_10154392138876130\"</td>\n",
       "      <td>18468761129</td>\n",
       "      <td>HuffPost Politics</td>\n",
       "      <td>NaN</td>\n",
       "      <td>Independent candidate Evan McMullin joins us i...</td>\n",
       "      <td>NaN</td>\n",
       "      <td>video</td>\n",
       "      <td>shared_story</td>\n",
       "      <td>147</td>\n",
       "      <td>72</td>\n",
       "      <td>0</td>\n",
       "      <td>6</td>\n",
       "      <td>11</td>\n",
       "      <td>4</td>\n",
       "      <td>2</td>\n",
       "      <td>0</td>\n",
       "      <td>20</td>\n",
       "      <td>https://www.facebook.com/HuffPostPolitics/vide...</td>\n",
       "      <td>https://scontent.xx.fbcdn.net/v/t15.0-10/s130x...</td>\n",
       "      <td>2016-11-07 17:46:40</td>\n",
       "    </tr>\n",
       "    <tr>\n",
       "      <th>85373</th>\n",
       "      <td>ï»¿\"18468761129_10154392168696130\"</td>\n",
       "      <td>18468761129</td>\n",
       "      <td>Thanks To Trump, I Blocked My Uncle On Faceboo...</td>\n",
       "      <td>'No longer do people just watch the evening ne...</td>\n",
       "      <td>My family seems to think God is a Republican.</td>\n",
       "      <td>huffingtonpost.com</td>\n",
       "      <td>link</td>\n",
       "      <td>shared_story</td>\n",
       "      <td>15417</td>\n",
       "      <td>1238</td>\n",
       "      <td>7656</td>\n",
       "      <td>308</td>\n",
       "      <td>258</td>\n",
       "      <td>2104</td>\n",
       "      <td>1740</td>\n",
       "      <td>0</td>\n",
       "      <td>107</td>\n",
       "      <td>http://huff.to/2fUiz9p</td>\n",
       "      <td>https://external.xx.fbcdn.net/safe_image.php?d...</td>\n",
       "      <td>2016-11-07 18:00:16</td>\n",
       "    </tr>\n",
       "    <tr>\n",
       "      <th>85374</th>\n",
       "      <td>ï»¿\"18468761129_10154392360686130\"</td>\n",
       "      <td>18468761129</td>\n",
       "      <td>Ted Nugent Grabbing His Crotch During Trump Ra...</td>\n",
       "      <td>Donald J. Trump might be offended by JAY Z's l...</td>\n",
       "      <td>He made the gesture while on stage in Michigan.</td>\n",
       "      <td>huffingtonpost.com</td>\n",
       "      <td>link</td>\n",
       "      <td>shared_story</td>\n",
       "      <td>1970</td>\n",
       "      <td>2200</td>\n",
       "      <td>1127</td>\n",
       "      <td>87</td>\n",
       "      <td>353</td>\n",
       "      <td>1085</td>\n",
       "      <td>86</td>\n",
       "      <td>0</td>\n",
       "      <td>900</td>\n",
       "      <td>http://huff.to/2faeexz</td>\n",
       "      <td>https://external.xx.fbcdn.net/safe_image.php?d...</td>\n",
       "      <td>2016-11-07 19:00:15</td>\n",
       "    </tr>\n",
       "    <tr>\n",
       "      <th>85375</th>\n",
       "      <td>ï»¿\"18468761129_10154392533741130\"</td>\n",
       "      <td>18468761129</td>\n",
       "      <td>The Moment I Realized That Trump Triggers Men,...</td>\n",
       "      <td>'Iâm one of the countless women for whom Tru...</td>\n",
       "      <td>Of all the things Donald Trump has been called...</td>\n",
       "      <td>huffingtonpost.com</td>\n",
       "      <td>link</td>\n",
       "      <td>shared_story</td>\n",
       "      <td>826</td>\n",
       "      <td>136</td>\n",
       "      <td>157</td>\n",
       "      <td>18</td>\n",
       "      <td>22</td>\n",
       "      <td>18</td>\n",
       "      <td>193</td>\n",
       "      <td>0</td>\n",
       "      <td>109</td>\n",
       "      <td>http://huff.to/2ewI9fa</td>\n",
       "      <td>https://external.xx.fbcdn.net/safe_image.php?d...</td>\n",
       "      <td>2016-11-07 20:00:31</td>\n",
       "    </tr>\n",
       "    <tr>\n",
       "      <th>85376</th>\n",
       "      <td>ï»¿\"18468761129_10154392606781130\"</td>\n",
       "      <td>18468761129</td>\n",
       "      <td>Baby Held By Larger Baby Is Ready For This Ele...</td>\n",
       "      <td>We are all this baby.</td>\n",
       "      <td>Yeah, that about sums it up.</td>\n",
       "      <td>huffingtonpost.com</td>\n",
       "      <td>link</td>\n",
       "      <td>shared_story</td>\n",
       "      <td>4589</td>\n",
       "      <td>434</td>\n",
       "      <td>346</td>\n",
       "      <td>126</td>\n",
       "      <td>24</td>\n",
       "      <td>2983</td>\n",
       "      <td>12</td>\n",
       "      <td>0</td>\n",
       "      <td>26</td>\n",
       "      <td>http://huff.to/2ex3JR4</td>\n",
       "      <td>https://external.xx.fbcdn.net/safe_image.php?d...</td>\n",
       "      <td>2016-11-07 20:30:21</td>\n",
       "    </tr>\n",
       "    <tr>\n",
       "      <th>85377</th>\n",
       "      <td>ï»¿\"18468761129_10154392670856130\"</td>\n",
       "      <td>18468761129</td>\n",
       "      <td>Glenn Beck Says He Supports Black Lives Matter...</td>\n",
       "      <td>Yes. Glenn Beck.</td>\n",
       "      <td>Hmm.</td>\n",
       "      <td>huffingtonpost.com</td>\n",
       "      <td>link</td>\n",
       "      <td>shared_story</td>\n",
       "      <td>19869</td>\n",
       "      <td>1578</td>\n",
       "      <td>4993</td>\n",
       "      <td>1004</td>\n",
       "      <td>4300</td>\n",
       "      <td>433</td>\n",
       "      <td>11</td>\n",
       "      <td>0</td>\n",
       "      <td>67</td>\n",
       "      <td>http://huff.to/2fhP51D</td>\n",
       "      <td>https://external.xx.fbcdn.net/safe_image.php?d...</td>\n",
       "      <td>2016-11-07 21:00:24</td>\n",
       "    </tr>\n",
       "    <tr>\n",
       "      <th>85378</th>\n",
       "      <td>ï»¿\"18468761129_10154392682811130\"</td>\n",
       "      <td>18468761129</td>\n",
       "      <td>HuffPost Politics</td>\n",
       "      <td>NaN</td>\n",
       "      <td>Election Day is just around the corner, so we'...</td>\n",
       "      <td>NaN</td>\n",
       "      <td>video</td>\n",
       "      <td>shared_story</td>\n",
       "      <td>56</td>\n",
       "      <td>41</td>\n",
       "      <td>0</td>\n",
       "      <td>6</td>\n",
       "      <td>1</td>\n",
       "      <td>0</td>\n",
       "      <td>0</td>\n",
       "      <td>0</td>\n",
       "      <td>2</td>\n",
       "      <td>https://www.facebook.com/HuffPostPolitics/vide...</td>\n",
       "      <td>https://scontent.xx.fbcdn.net/v/t15.0-10/s130x...</td>\n",
       "      <td>2016-11-07 21:05:35</td>\n",
       "    </tr>\n",
       "    <tr>\n",
       "      <th>85379</th>\n",
       "      <td>ï»¿\"18468761129_10154392741286130\"</td>\n",
       "      <td>18468761129</td>\n",
       "      <td>This Picture From A Trump Rally Tells A Story ...</td>\n",
       "      <td>'Itâs about the story of America on the cusp...</td>\n",
       "      <td>The photograph of the Trump rally in Loveland,...</td>\n",
       "      <td>huffingtonpost.com</td>\n",
       "      <td>link</td>\n",
       "      <td>shared_story</td>\n",
       "      <td>4476</td>\n",
       "      <td>915</td>\n",
       "      <td>3369</td>\n",
       "      <td>52</td>\n",
       "      <td>418</td>\n",
       "      <td>88</td>\n",
       "      <td>1988</td>\n",
       "      <td>0</td>\n",
       "      <td>1229</td>\n",
       "      <td>http://huff.to/2ewY25z</td>\n",
       "      <td>https://external.xx.fbcdn.net/safe_image.php?d...</td>\n",
       "      <td>2016-11-07 21:29:03</td>\n",
       "    </tr>\n",
       "    <tr>\n",
       "      <th>85380</th>\n",
       "      <td>ï»¿\"18468761129_10154392781631130\"</td>\n",
       "      <td>18468761129</td>\n",
       "      <td>Elite Daily</td>\n",
       "      <td>NaN</td>\n",
       "      <td>â[America] makes it deliberately difficult f...</td>\n",
       "      <td>NaN</td>\n",
       "      <td>video</td>\n",
       "      <td>shared_story</td>\n",
       "      <td>1480</td>\n",
       "      <td>135</td>\n",
       "      <td>1</td>\n",
       "      <td>19</td>\n",
       "      <td>52</td>\n",
       "      <td>10</td>\n",
       "      <td>11</td>\n",
       "      <td>0</td>\n",
       "      <td>34</td>\n",
       "      <td>https://www.facebook.com/EliteDaily/videos/132...</td>\n",
       "      <td>https://scontent.xx.fbcdn.net/v/t15.0-10/p130x...</td>\n",
       "      <td>2016-11-07 21:43:04</td>\n",
       "    </tr>\n",
       "    <tr>\n",
       "      <th>85381</th>\n",
       "      <td>ï»¿\"18468761129_10154392822416130\"</td>\n",
       "      <td>18468761129</td>\n",
       "      <td>'I Love You, But...': What Your Trump Vote Tel...</td>\n",
       "      <td>'If you love me and youâre going to vote for...</td>\n",
       "      <td>I am a Latino son of an immigrant and a gay da...</td>\n",
       "      <td>huffingtonpost.com</td>\n",
       "      <td>link</td>\n",
       "      <td>shared_story</td>\n",
       "      <td>9929</td>\n",
       "      <td>697</td>\n",
       "      <td>4642</td>\n",
       "      <td>866</td>\n",
       "      <td>95</td>\n",
       "      <td>60</td>\n",
       "      <td>1234</td>\n",
       "      <td>0</td>\n",
       "      <td>91</td>\n",
       "      <td>http://huff.to/2faERTb</td>\n",
       "      <td>https://external.xx.fbcdn.net/safe_image.php?d...</td>\n",
       "      <td>2016-11-07 22:00:23</td>\n",
       "    </tr>\n",
       "    <tr>\n",
       "      <th>85382</th>\n",
       "      <td>ï»¿\"18468761129_10154392833501130\"</td>\n",
       "      <td>18468761129</td>\n",
       "      <td>HuffPost LatinoVoices</td>\n",
       "      <td>NaN</td>\n",
       "      <td>All eyes are on Florida and its Latino populat...</td>\n",
       "      <td>NaN</td>\n",
       "      <td>video</td>\n",
       "      <td>shared_story</td>\n",
       "      <td>119</td>\n",
       "      <td>183</td>\n",
       "      <td>0</td>\n",
       "      <td>8</td>\n",
       "      <td>7</td>\n",
       "      <td>16</td>\n",
       "      <td>45</td>\n",
       "      <td>0</td>\n",
       "      <td>79</td>\n",
       "      <td>https://www.facebook.com/HuffPostLatinoVoices/...</td>\n",
       "      <td>https://scontent.xx.fbcdn.net/v/t15.0-10/s130x...</td>\n",
       "      <td>2016-11-07 22:05:49</td>\n",
       "    </tr>\n",
       "    <tr>\n",
       "      <th>85383</th>\n",
       "      <td>ï»¿\"18468761129_10154392820251130\"</td>\n",
       "      <td>18468761129</td>\n",
       "      <td>Timeline Photos</td>\n",
       "      <td>Just a reminder before tomorrow!</td>\n",
       "      <td>NaN</td>\n",
       "      <td>NaN</td>\n",
       "      <td>photo</td>\n",
       "      <td>added_photos</td>\n",
       "      <td>23414</td>\n",
       "      <td>921</td>\n",
       "      <td>5879</td>\n",
       "      <td>1279</td>\n",
       "      <td>74</td>\n",
       "      <td>12346</td>\n",
       "      <td>15</td>\n",
       "      <td>0</td>\n",
       "      <td>60</td>\n",
       "      <td>https://www.facebook.com/HuffingtonPost/photos...</td>\n",
       "      <td>https://scontent.xx.fbcdn.net/v/t1.0-0/s130x13...</td>\n",
       "      <td>2016-11-07 22:18:55</td>\n",
       "    </tr>\n",
       "    <tr>\n",
       "      <th>85384</th>\n",
       "      <td>ï»¿\"18468761129_10154392885861130\"</td>\n",
       "      <td>18468761129</td>\n",
       "      <td>Here's Why Clinton Supporters Are Wearing Whit...</td>\n",
       "      <td>Break those fashion rules.</td>\n",
       "      <td>In case you can't find a pantsuit in time.</td>\n",
       "      <td>huffingtonpost.com</td>\n",
       "      <td>link</td>\n",
       "      <td>shared_story</td>\n",
       "      <td>12885</td>\n",
       "      <td>498</td>\n",
       "      <td>2239</td>\n",
       "      <td>1660</td>\n",
       "      <td>17</td>\n",
       "      <td>85</td>\n",
       "      <td>2</td>\n",
       "      <td>0</td>\n",
       "      <td>13</td>\n",
       "      <td>http://huff.to/2fi49vV</td>\n",
       "      <td>https://external.xx.fbcdn.net/safe_image.php?d...</td>\n",
       "      <td>2016-11-07 22:30:33</td>\n",
       "    </tr>\n",
       "    <tr>\n",
       "      <th>85385</th>\n",
       "      <td>ï»¿\"18468761129_10154392946086130\"</td>\n",
       "      <td>18468761129</td>\n",
       "      <td>Janet Reno Proved Life Does Not End After A Di...</td>\n",
       "      <td>Janet Reno was diagnosed with Parkinson's Dise...</td>\n",
       "      <td>âYou can suffer with Parkinsonâs disease, ...</td>\n",
       "      <td>huffingtonpost.com</td>\n",
       "      <td>link</td>\n",
       "      <td>shared_story</td>\n",
       "      <td>1385</td>\n",
       "      <td>25</td>\n",
       "      <td>172</td>\n",
       "      <td>143</td>\n",
       "      <td>14</td>\n",
       "      <td>2</td>\n",
       "      <td>221</td>\n",
       "      <td>0</td>\n",
       "      <td>1</td>\n",
       "      <td>http://huff.to/2eGKp75</td>\n",
       "      <td>https://external.xx.fbcdn.net/safe_image.php?d...</td>\n",
       "      <td>2016-11-07 23:00:11</td>\n",
       "    </tr>\n",
       "    <tr>\n",
       "      <th>85386</th>\n",
       "      <td>ï»¿\"18468761129_10154392948181130\"</td>\n",
       "      <td>18468761129</td>\n",
       "      <td>Stevie Wonder: Voting For Trump Is Like Asking...</td>\n",
       "      <td>Jesus, take the wheel.</td>\n",
       "      <td>This is golden.</td>\n",
       "      <td>huffingtonpost.com</td>\n",
       "      <td>link</td>\n",
       "      <td>shared_story</td>\n",
       "      <td>117127</td>\n",
       "      <td>3974</td>\n",
       "      <td>52786</td>\n",
       "      <td>7851</td>\n",
       "      <td>512</td>\n",
       "      <td>41509</td>\n",
       "      <td>78</td>\n",
       "      <td>0</td>\n",
       "      <td>148</td>\n",
       "      <td>http://huff.to/2expJuR</td>\n",
       "      <td>https://external.xx.fbcdn.net/safe_image.php?d...</td>\n",
       "      <td>2016-11-07 23:01:11</td>\n",
       "    </tr>\n",
       "    <tr>\n",
       "      <th>85387</th>\n",
       "      <td>ï»¿\"18468761129_10154393023676130\"</td>\n",
       "      <td>18468761129</td>\n",
       "      <td>Italy's Prime Minister Wrote A Heartfelt Faceb...</td>\n",
       "      <td>âOf course, it will be historians who define...</td>\n",
       "      <td>âLetâs hope itâs a girl,â Renzi said a...</td>\n",
       "      <td>huffingtonpost.com</td>\n",
       "      <td>link</td>\n",
       "      <td>shared_story</td>\n",
       "      <td>54153</td>\n",
       "      <td>568</td>\n",
       "      <td>12158</td>\n",
       "      <td>8824</td>\n",
       "      <td>51</td>\n",
       "      <td>148</td>\n",
       "      <td>18</td>\n",
       "      <td>0</td>\n",
       "      <td>27</td>\n",
       "      <td>http://huff.to/2eGQuAq</td>\n",
       "      <td>https://external.xx.fbcdn.net/safe_image.php?d...</td>\n",
       "      <td>2016-11-07 23:30:11</td>\n",
       "    </tr>\n",
       "    <tr>\n",
       "      <th>85388</th>\n",
       "      <td>ï»¿\"18468761129_10154393052256130\"</td>\n",
       "      <td>18468761129</td>\n",
       "      <td>HuffPost Black Voices</td>\n",
       "      <td>NaN</td>\n",
       "      <td>Weâre marching to the polls with Chance The ...</td>\n",
       "      <td>NaN</td>\n",
       "      <td>video</td>\n",
       "      <td>shared_story</td>\n",
       "      <td>2777</td>\n",
       "      <td>275</td>\n",
       "      <td>0</td>\n",
       "      <td>479</td>\n",
       "      <td>46</td>\n",
       "      <td>8</td>\n",
       "      <td>0</td>\n",
       "      <td>0</td>\n",
       "      <td>13</td>\n",
       "      <td>https://www.facebook.com/blackvoicesdotcom/vid...</td>\n",
       "      <td>https://scontent.xx.fbcdn.net/v/t15.0-10/s130x...</td>\n",
       "      <td>2016-11-07 23:41:39</td>\n",
       "    </tr>\n",
       "  </tbody>\n",
       "</table>\n",
       "</div>"
      ],
      "text/plain": [
       "                                       id      page_id  \\\n",
       "85369  ï»¿\"18468761129_10154392091781130\"  18468761129   \n",
       "85370  ï»¿\"18468761129_10154392118616130\"  18468761129   \n",
       "85371  ï»¿\"18468761129_10154392127876130\"  18468761129   \n",
       "85372  ï»¿\"18468761129_10154392138876130\"  18468761129   \n",
       "85373  ï»¿\"18468761129_10154392168696130\"  18468761129   \n",
       "85374  ï»¿\"18468761129_10154392360686130\"  18468761129   \n",
       "85375  ï»¿\"18468761129_10154392533741130\"  18468761129   \n",
       "85376  ï»¿\"18468761129_10154392606781130\"  18468761129   \n",
       "85377  ï»¿\"18468761129_10154392670856130\"  18468761129   \n",
       "85378  ï»¿\"18468761129_10154392682811130\"  18468761129   \n",
       "85379  ï»¿\"18468761129_10154392741286130\"  18468761129   \n",
       "85380  ï»¿\"18468761129_10154392781631130\"  18468761129   \n",
       "85381  ï»¿\"18468761129_10154392822416130\"  18468761129   \n",
       "85382  ï»¿\"18468761129_10154392833501130\"  18468761129   \n",
       "85383  ï»¿\"18468761129_10154392820251130\"  18468761129   \n",
       "85384  ï»¿\"18468761129_10154392885861130\"  18468761129   \n",
       "85385  ï»¿\"18468761129_10154392946086130\"  18468761129   \n",
       "85386  ï»¿\"18468761129_10154392948181130\"  18468761129   \n",
       "85387  ï»¿\"18468761129_10154393023676130\"  18468761129   \n",
       "85388  ï»¿\"18468761129_10154393052256130\"  18468761129   \n",
       "\n",
       "                                                    name  \\\n",
       "85369                                    Timeline Photos   \n",
       "85370                              HuffPost Black Voices   \n",
       "85371  Why You Should Vote For Hillary If You're Agai...   \n",
       "85372                                  HuffPost Politics   \n",
       "85373  Thanks To Trump, I Blocked My Uncle On Faceboo...   \n",
       "85374  Ted Nugent Grabbing His Crotch During Trump Ra...   \n",
       "85375  The Moment I Realized That Trump Triggers Men,...   \n",
       "85376  Baby Held By Larger Baby Is Ready For This Ele...   \n",
       "85377  Glenn Beck Says He Supports Black Lives Matter...   \n",
       "85378                                  HuffPost Politics   \n",
       "85379  This Picture From A Trump Rally Tells A Story ...   \n",
       "85380                                        Elite Daily   \n",
       "85381  'I Love You, But...': What Your Trump Vote Tel...   \n",
       "85382                              HuffPost LatinoVoices   \n",
       "85383                                    Timeline Photos   \n",
       "85384  Here's Why Clinton Supporters Are Wearing Whit...   \n",
       "85385  Janet Reno Proved Life Does Not End After A Di...   \n",
       "85386  Stevie Wonder: Voting For Trump Is Like Asking...   \n",
       "85387  Italy's Prime Minister Wrote A Heartfelt Faceb...   \n",
       "85388                              HuffPost Black Voices   \n",
       "\n",
       "                                                 message  \\\n",
       "85369                        See you on the other side.    \n",
       "85370                                                NaN   \n",
       "85371  'If your candidate focuses on maintaining and ...   \n",
       "85372                                                NaN   \n",
       "85373  'No longer do people just watch the evening ne...   \n",
       "85374  Donald J. Trump might be offended by JAY Z's l...   \n",
       "85375  'Iâm one of the countless women for whom Tru...   \n",
       "85376                              We are all this baby.   \n",
       "85377                                   Yes. Glenn Beck.   \n",
       "85378                                                NaN   \n",
       "85379  'Itâs about the story of America on the cusp...   \n",
       "85380                                                NaN   \n",
       "85381  'If you love me and youâre going to vote for...   \n",
       "85382                                                NaN   \n",
       "85383                   Just a reminder before tomorrow!   \n",
       "85384                         Break those fashion rules.   \n",
       "85385  Janet Reno was diagnosed with Parkinson's Dise...   \n",
       "85386                            Jesus, take the wheel.    \n",
       "85387  âOf course, it will be historians who define...   \n",
       "85388                                                NaN   \n",
       "\n",
       "                                             description             caption  \\\n",
       "85369                                                NaN                 NaN   \n",
       "85370  Join HuffPost Black Voicesâ Jacques Morel Jr...                 NaN   \n",
       "85371  I am a doctor who has dedicated her career to ...  huffingtonpost.com   \n",
       "85372  Independent candidate Evan McMullin joins us i...                 NaN   \n",
       "85373      My family seems to think God is a Republican.  huffingtonpost.com   \n",
       "85374    He made the gesture while on stage in Michigan.  huffingtonpost.com   \n",
       "85375  Of all the things Donald Trump has been called...  huffingtonpost.com   \n",
       "85376                       Yeah, that about sums it up.  huffingtonpost.com   \n",
       "85377                                               Hmm.  huffingtonpost.com   \n",
       "85378  Election Day is just around the corner, so we'...                 NaN   \n",
       "85379  The photograph of the Trump rally in Loveland,...  huffingtonpost.com   \n",
       "85380  â[America] makes it deliberately difficult f...                 NaN   \n",
       "85381  I am a Latino son of an immigrant and a gay da...  huffingtonpost.com   \n",
       "85382  All eyes are on Florida and its Latino populat...                 NaN   \n",
       "85383                                                NaN                 NaN   \n",
       "85384         In case you can't find a pantsuit in time.  huffingtonpost.com   \n",
       "85385  âYou can suffer with Parkinsonâs disease, ...  huffingtonpost.com   \n",
       "85386                                    This is golden.  huffingtonpost.com   \n",
       "85387  âLetâs hope itâs a girl,â Renzi said a...  huffingtonpost.com   \n",
       "85388  Weâre marching to the polls with Chance The ...                 NaN   \n",
       "\n",
       "      post_type   status_type  likes_count  comments_count  shares_count  \\\n",
       "85369     photo  added_photos        16797             504           868   \n",
       "85370     video  shared_story          100              19             0   \n",
       "85371      link  shared_story        15197             490          3338   \n",
       "85372     video  shared_story          147              72             0   \n",
       "85373      link  shared_story        15417            1238          7656   \n",
       "85374      link  shared_story         1970            2200          1127   \n",
       "85375      link  shared_story          826             136           157   \n",
       "85376      link  shared_story         4589             434           346   \n",
       "85377      link  shared_story        19869            1578          4993   \n",
       "85378     video  shared_story           56              41             0   \n",
       "85379      link  shared_story         4476             915          3369   \n",
       "85380     video  shared_story         1480             135             1   \n",
       "85381      link  shared_story         9929             697          4642   \n",
       "85382     video  shared_story          119             183             0   \n",
       "85383     photo  added_photos        23414             921          5879   \n",
       "85384      link  shared_story        12885             498          2239   \n",
       "85385      link  shared_story         1385              25           172   \n",
       "85386      link  shared_story       117127            3974         52786   \n",
       "85387      link  shared_story        54153             568         12158   \n",
       "85388     video  shared_story         2777             275             0   \n",
       "\n",
       "       love_count  wow_count  haha_count  sad_count  thankful_count  \\\n",
       "85369        2646         25         267         21               0   \n",
       "85370           2          1           0          5               0   \n",
       "85371        1176         17          82          8               0   \n",
       "85372           6         11           4          2               0   \n",
       "85373         308        258        2104       1740               0   \n",
       "85374          87        353        1085         86               0   \n",
       "85375          18         22          18        193               0   \n",
       "85376         126         24        2983         12               0   \n",
       "85377        1004       4300         433         11               0   \n",
       "85378           6          1           0          0               0   \n",
       "85379          52        418          88       1988               0   \n",
       "85380          19         52          10         11               0   \n",
       "85381         866         95          60       1234               0   \n",
       "85382           8          7          16         45               0   \n",
       "85383        1279         74       12346         15               0   \n",
       "85384        1660         17          85          2               0   \n",
       "85385         143         14           2        221               0   \n",
       "85386        7851        512       41509         78               0   \n",
       "85387        8824         51         148         18               0   \n",
       "85388         479         46           8          0               0   \n",
       "\n",
       "       angry_count                                               link  \\\n",
       "85369           52  https://www.facebook.com/HuffingtonPost/photos...   \n",
       "85370            0  https://www.facebook.com/blackvoicesdotcom/vid...   \n",
       "85371           39                             http://huff.to/2fUmdQH   \n",
       "85372           20  https://www.facebook.com/HuffPostPolitics/vide...   \n",
       "85373          107                             http://huff.to/2fUiz9p   \n",
       "85374          900                             http://huff.to/2faeexz   \n",
       "85375          109                             http://huff.to/2ewI9fa   \n",
       "85376           26                             http://huff.to/2ex3JR4   \n",
       "85377           67                             http://huff.to/2fhP51D   \n",
       "85378            2  https://www.facebook.com/HuffPostPolitics/vide...   \n",
       "85379         1229                             http://huff.to/2ewY25z   \n",
       "85380           34  https://www.facebook.com/EliteDaily/videos/132...   \n",
       "85381           91                             http://huff.to/2faERTb   \n",
       "85382           79  https://www.facebook.com/HuffPostLatinoVoices/...   \n",
       "85383           60  https://www.facebook.com/HuffingtonPost/photos...   \n",
       "85384           13                             http://huff.to/2fi49vV   \n",
       "85385            1                             http://huff.to/2eGKp75   \n",
       "85386          148                             http://huff.to/2expJuR   \n",
       "85387           27                             http://huff.to/2eGQuAq   \n",
       "85388           13  https://www.facebook.com/blackvoicesdotcom/vid...   \n",
       "\n",
       "                                                 picture           posted_at  \n",
       "85369  https://scontent.xx.fbcdn.net/v/t1.0-0/p130x13... 2016-11-07 17:19:45  \n",
       "85370  https://scontent.xx.fbcdn.net/v/t15.0-10/s130x... 2016-11-07 17:36:14  \n",
       "85371  https://external.xx.fbcdn.net/safe_image.php?d... 2016-11-07 17:41:28  \n",
       "85372  https://scontent.xx.fbcdn.net/v/t15.0-10/s130x... 2016-11-07 17:46:40  \n",
       "85373  https://external.xx.fbcdn.net/safe_image.php?d... 2016-11-07 18:00:16  \n",
       "85374  https://external.xx.fbcdn.net/safe_image.php?d... 2016-11-07 19:00:15  \n",
       "85375  https://external.xx.fbcdn.net/safe_image.php?d... 2016-11-07 20:00:31  \n",
       "85376  https://external.xx.fbcdn.net/safe_image.php?d... 2016-11-07 20:30:21  \n",
       "85377  https://external.xx.fbcdn.net/safe_image.php?d... 2016-11-07 21:00:24  \n",
       "85378  https://scontent.xx.fbcdn.net/v/t15.0-10/s130x... 2016-11-07 21:05:35  \n",
       "85379  https://external.xx.fbcdn.net/safe_image.php?d... 2016-11-07 21:29:03  \n",
       "85380  https://scontent.xx.fbcdn.net/v/t15.0-10/p130x... 2016-11-07 21:43:04  \n",
       "85381  https://external.xx.fbcdn.net/safe_image.php?d... 2016-11-07 22:00:23  \n",
       "85382  https://scontent.xx.fbcdn.net/v/t15.0-10/s130x... 2016-11-07 22:05:49  \n",
       "85383  https://scontent.xx.fbcdn.net/v/t1.0-0/s130x13... 2016-11-07 22:18:55  \n",
       "85384  https://external.xx.fbcdn.net/safe_image.php?d... 2016-11-07 22:30:33  \n",
       "85385  https://external.xx.fbcdn.net/safe_image.php?d... 2016-11-07 23:00:11  \n",
       "85386  https://external.xx.fbcdn.net/safe_image.php?d... 2016-11-07 23:01:11  \n",
       "85387  https://external.xx.fbcdn.net/safe_image.php?d... 2016-11-07 23:30:11  \n",
       "85388  https://scontent.xx.fbcdn.net/v/t15.0-10/s130x... 2016-11-07 23:41:39  "
      ]
     },
     "execution_count": 7,
     "metadata": {},
     "output_type": "execute_result"
    }
   ],
   "source": [
    "dfs[\"huff\"].tail(20)"
   ]
  },
  {
   "cell_type": "markdown",
   "metadata": {},
   "source": [
    "From an original dataframe, I extract the information that I will be using for my analysis (number of likes and the timestamp) and create new dataframe that I will be working with. To convert the timestamp attribute, which is in date-year format, into numeric value that I can do arithmetic operations on, I created *years* attribute which is the timestamp represented as the number of years passed since the time first post was posted."
   ]
  },
  {
   "cell_type": "code",
   "execution_count": 9,
   "metadata": {
    "collapsed": false
   },
   "outputs": [
    {
     "name": "stderr",
     "output_type": "stream",
     "text": [
      "/home/sung/anaconda3/lib/python3.5/site-packages/ipykernel/__main__.py:7: SettingWithCopyWarning: \n",
      "A value is trying to be set on a copy of a slice from a DataFrame.\n",
      "Try using .loc[row_indexer,col_indexer] = value instead\n",
      "\n",
      "See the caveats in the documentation: http://pandas.pydata.org/pandas-docs/stable/indexing.html#indexing-view-versus-copy\n"
     ]
    }
   ],
   "source": [
    "#Dataframe of likes and timestamp from the huffington post\n",
    "huff_df = dfs['huff'][['likes_count', 'posted_at']]\n",
    "#Add year column which is timestamp represented as a number of years\n",
    "#since the first post\n",
    "start = huff_df.posted_at[0]\n",
    "one_year = np.timedelta64(1, 'Y')\n",
    "huff_df['years'] = (huff_df.posted_at - start) / one_year"
   ]
  },
  {
   "cell_type": "markdown",
   "metadata": {},
   "source": [
    "Following scatter plot shows the numbers of likes that posts from the Huffington Posts received. There are few posts that received more than 100,000 likes but including those values makes the scatter plot hard to interpret, so I set the range of y-axis to be 0 to 100,000, which covers most of the data points."
   ]
  },
  {
   "cell_type": "code",
   "execution_count": 12,
   "metadata": {
    "collapsed": false
   },
   "outputs": [
    {
     "data": {
      "image/png": "[encoded data removed]",
      "text/plain": [
       "<matplotlib.figure.Figure at 0x7fe2a77f0390>"
      ]
     },
     "metadata": {},
     "output_type": "display_data"
    }
   ],
   "source": [
    "thinkplot.Config(xlim=[0,5], ylim=[0,100000])\n",
    "thinkplot.Scatter(huff_df.years, huff_df.likes_count, s=10)"
   ]
  },
  {
   "cell_type": "markdown",
   "metadata": {},
   "source": [
    "I applied the sasme operation (extraction of relevant data and conversion of timestamp) to ABC dataframe and got following scatter plot."
   ]
  },
  {
   "cell_type": "code",
   "execution_count": 13,
   "metadata": {
    "collapsed": false
   },
   "outputs": [
    {
     "name": "stderr",
     "output_type": "stream",
     "text": [
      "/home/sung/anaconda3/lib/python3.5/site-packages/ipykernel/__main__.py:7: SettingWithCopyWarning: \n",
      "A value is trying to be set on a copy of a slice from a DataFrame.\n",
      "Try using .loc[row_indexer,col_indexer] = value instead\n",
      "\n",
      "See the caveats in the documentation: http://pandas.pydata.org/pandas-docs/stable/indexing.html#indexing-view-versus-copy\n"
     ]
    }
   ],
   "source": [
    "#Dataframe of likes and timestamp from the abc\n",
    "abc_df = dfs['abc'][['likes_count', 'posted_at']]\n",
    "#Add year column which is timestamp represented as a number of years\n",
    "#since the first post\n",
    "start = abc_df.posted_at[0]\n",
    "one_year = np.timedelta64(1, 'Y')\n",
    "abc_df['years'] = (abc_df.posted_at - start) / one_year"
   ]
  },
  {
   "cell_type": "code",
   "execution_count": 17,
   "metadata": {
    "collapsed": false
   },
   "outputs": [
    {
     "data": {
      "image/png": "[encoded data removed]",
      "text/plain": [
       "<matplotlib.figure.Figure at 0x7fe2a77588d0>"
      ]
     },
     "metadata": {},
     "output_type": "display_data"
    }
   ],
   "source": [
    "thinkplot.Config(xlim=[0,5],ylim=[0,100000])\n",
    "thinkplot.Scatter(abc_df.years, abc_df.likes_count, s=10)"
   ]
  },
  {
   "cell_type": "markdown",
   "metadata": {},
   "source": [
    "## Investigating Seasonality"
   ]
  },
  {
   "cell_type": "markdown",
   "metadata": {},
   "source": [
    "To investigate the seasonality, I have to extract the trend from the dataset. To compute the trend, I calculated rolling averages."
   ]
  },
  {
   "cell_type": "code",
   "execution_count": 19,
   "metadata": {
    "collapsed": false
   },
   "outputs": [],
   "source": [
    "#Rolling averages\n",
    "#huff_df_roll_mean = pandas.rolling_mean(huff_df.likes_count, 30)\n",
    "huff_df_roll_mean = huff_df.likes_count.rolling(center=False, window=30).mean()"
   ]
  },
  {
   "cell_type": "code",
   "execution_count": 20,
   "metadata": {
    "collapsed": false
   },
   "outputs": [
    {
     "data": {
      "image/png": "[encoded data removed]",
      "text/plain": [
       "<matplotlib.figure.Figure at 0x7fe2a7764710>"
      ]
     },
     "metadata": {},
     "output_type": "display_data"
    }
   ],
   "source": [
    "thinkplot.Plot(huff_df.years,huff_df_roll_mean)"
   ]
  },
  {
   "cell_type": "markdown",
   "metadata": {},
   "source": [
    "Exponentially weighted moving averages takes care of missing values better than a simple rolling mean. Following is the graph of EWMA for the Huffington Post dataset."
   ]
  },
  {
   "cell_type": "code",
   "execution_count": 21,
   "metadata": {
    "collapsed": false
   },
   "outputs": [],
   "source": [
    "#EWMA (exponentially-weighted moving average)\n",
    "#huff_ewma = pandas.ewma(huff_df.likes_count, span=30)\n",
    "huff_ewma = huff_df.likes_count.ewm(ignore_na=False,min_periods=0,span=30,adjust=True).mean()"
   ]
  },
  {
   "cell_type": "code",
   "execution_count": 22,
   "metadata": {
    "collapsed": false
   },
   "outputs": [
    {
     "data": {
      "image/png": "[encoded data removed]",
      "text/plain": [
       "<matplotlib.figure.Figure at 0x7fe2a7660f28>"
      ]
     },
     "metadata": {},
     "output_type": "display_data"
    }
   ],
   "source": [
    "thinkplot.Plot(huff_df.years,huff_ewma)"
   ]
  },
  {
   "cell_type": "markdown",
   "metadata": {},
   "source": [
    "To accurate compute the seasonality in the data, we have to subtract the trend from the data. In order to do this, I subtracted EWMA values of number of likes from the original number of likes. Resulting data are residuals."
   ]
  },
  {
   "cell_type": "code",
   "execution_count": 28,
   "metadata": {
    "collapsed": false
   },
   "outputs": [
    {
     "data": {
      "image/png": "[encoded data removed]",
      "text/plain": [
       "<matplotlib.figure.Figure at 0x7fe2a74f8b38>"
      ]
     },
     "metadata": {},
     "output_type": "display_data"
    }
   ],
   "source": [
    "#Subtracting away trend\n",
    "huff_resid = huff_df.likes_count - huff_ewma\n",
    "thinkplot.Plot(huff_df.years, huff_resid)"
   ]
  },
  {
   "cell_type": "markdown",
   "metadata": {},
   "source": [
    "I compute autocorrelation function on the residuals, which will give serial correlation values for a range of lags (a number of days for this case). "
   ]
  },
  {
   "cell_type": "code",
   "execution_count": 31,
   "metadata": {
    "collapsed": true
   },
   "outputs": [],
   "source": [
    "#autocorrelation function\n",
    "huff_acf = smtsa.acf(huff_resid, nlags=365, unbiased=True)"
   ]
  },
  {
   "cell_type": "code",
   "execution_count": 34,
   "metadata": {
    "collapsed": false
   },
   "outputs": [
    {
     "data": {
      "image/png": "[encoded data removed]",
      "text/plain": [
       "<matplotlib.figure.Figure at 0x7fe2a70b2c50>"
      ]
     },
     "metadata": {},
     "output_type": "display_data"
    }
   ],
   "source": [
    "thinkplot.Config(ylim=[0,0.1])\n",
    "thinkplot.Plot(np.arange(366),huff_acf)"
   ]
  },
  {
   "cell_type": "markdown",
   "metadata": {},
   "source": [
    "All serial correlation values are extremely small."
   ]
  },
  {
   "cell_type": "code",
   "execution_count": 35,
   "metadata": {
    "collapsed": false
   },
   "outputs": [
    {
     "data": {
      "text/plain": [
       "(-0.014442282792503917,\n",
       " -0.026183919462200732,\n",
       " -0.0079701924205183051,\n",
       " -0.00019594467253888708)"
      ]
     },
     "execution_count": 35,
     "metadata": {},
     "output_type": "execute_result"
    }
   ],
   "source": [
    "huff_acf[1], huff_acf[7], huff_acf[30], huff_acf[365]"
   ]
  },
  {
   "cell_type": "markdown",
   "metadata": {},
   "source": [
    "Serial correlation values that indicate daily, weekly, monthly, and yearly seasonality are extremely small, indicating there is no seasonlity in the data."
   ]
  },
  {
   "cell_type": "markdown",
   "metadata": {},
   "source": [
    "Following code applies the operations shown above on other dataframes and computes serial correlation values."
   ]
  },
  {
   "cell_type": "code",
   "execution_count": 25,
   "metadata": {
    "collapsed": false,
    "scrolled": true
   },
   "outputs": [
    {
     "name": "stderr",
     "output_type": "stream",
     "text": [
      "/home/sung/anaconda3/lib/python3.5/site-packages/ipykernel/__main__.py:10: SettingWithCopyWarning: \n",
      "A value is trying to be set on a copy of a slice from a DataFrame.\n",
      "Try using .loc[row_indexer,col_indexer] = value instead\n",
      "\n",
      "See the caveats in the documentation: http://pandas.pydata.org/pandas-docs/stable/indexing.html#indexing-view-versus-copy\n"
     ]
    },
    {
     "name": "stdout",
     "output_type": "stream",
     "text": [
      "cnn       : 1 days:-0.029756534977066724   7 days:-0.0004785693401439372   30 days:-0.0006886404933035297   365 days:-0.002546237951539804\n",
      "huff      : 1 days:-0.014442282792503917   7 days:-0.026183919462200732   30 days:-0.007970192420518305   365 days:-0.00019594467253888708\n",
      "la_times  : 1 days:-0.031138879018477013   7 days:-0.008998078485048548   30 days:-0.0042169043615362225   365 days:-0.003682419291510698\n",
      "npr       : 1 days:-0.027428518881018975   7 days:-0.025808008785235252   30 days:-0.006584060781139451   365 days:-0.006376719346369967\n",
      "nbc       : 1 days:-0.019437874239638102   7 days:-0.028276027511564595   30 days:-0.006532568617991822   365 days:0.005096078582649778\n",
      "fox       : 1 days:-0.004308856610576095   7 days:-0.008457467641435866   30 days:-0.0007433323062722195   365 days:-0.012392345085506525\n",
      "fox_friends: 1 days:-0.004017589133827942   7 days:-0.0315307119193414   30 days:-0.002057091266958815   365 days:0.0059177877708477\n",
      "cbs       : 1 days:-0.03166688187731559   7 days:-0.021754249811873547   30 days:-0.0024094556462089895   365 days:0.0010374684103873722\n",
      "bbc       : 1 days:-0.03044649917022163   7 days:-0.011723564005179135   30 days:0.001962994900976816   365 days:-0.010021557847552898\n",
      "abc       : 1 days:-0.014955579272878328   7 days:-0.02757913719934127   30 days:-0.013540009034600455   365 days:-0.0041998277455368715\n",
      "wsj       : 1 days:-0.027456333237942856   7 days:-0.01646119476436739   30 days:-0.006950547709207333   365 days:-0.002729155993090073\n",
      "nyt       : 1 days:-0.014782481757562253   7 days:-0.0008041267638878915   30 days:-0.0023373725413949925   365 days:0.006418153244978329\n",
      "wash_post : 1 days:-0.020166667924224203   7 days:-0.027377831942780817   30 days:-0.014020351104383995   365 days:-0.001392318016343383\n",
      "time      : 1 days:-0.021322859342308716   7 days:-0.01729191409269437   30 days:-0.008359143931852168   365 days:-0.0040691125244319195\n",
      "usa_today : 1 days:-0.024658035151354982   7 days:-0.019656236403451436   30 days:-0.016058607242599932   365 days:-0.0068374022853718635\n",
      "5 biggest acf values:  [0.029756534977066724, 0.03044649917022163, 0.031138879018477013, 0.031530711919341398, 0.031666881877315589]\n"
     ]
    }
   ],
   "source": [
    "#Run autocorrelate function analysis on multiple media outlets\n",
    "\n",
    "acf_values = []\n",
    "\n",
    "for name in media_names:\n",
    "    df = dfs[name][['likes_count', 'posted_at']]\n",
    "    \n",
    "    start = df.posted_at[0]\n",
    "    one_year = np.timedelta64(1, 'Y')\n",
    "    df['years'] = (df.posted_at - start) / one_year\n",
    "    \n",
    "    df_ewma = df.likes_count.ewm(ignore_na=False,min_periods=0,span=30,adjust=True).mean()\n",
    "    \n",
    "    df_resid = df.likes_count - df_ewma\n",
    "    #df_resid[df_resid>100000] = np.NaN\n",
    "    \n",
    "    acf_values.extend([abs(df_acf[1]), abs(df_acf[7]), abs(df_acf[30]), abs(df_acf[365])])\n",
    "    \n",
    "    df_acf = smtsa.acf(df_resid, nlags=365, unbiased=True)\n",
    "    print(\"{:10}: 1 days:{}   7 days:{}   30 days:{}   365 days:{}\".format(name, df_acf[1], df_acf[7], df_acf[30], df_acf[365]))\n",
    "    \n",
    "acf_values.sort()\n",
    "print(\"5 biggest acf values: \", acf_values[-5:])"
   ]
  },
  {
   "cell_type": "code",
   "execution_count": null,
   "metadata": {
    "collapsed": true
   },
   "outputs": [],
   "source": []
  }
 ],
 "metadata": {
  "anaconda-cloud": {},
  "kernelspec": {
   "display_name": "Python [conda root]",
   "language": "python",
   "name": "conda-root-py"
  },
  "language_info": {
   "codemirror_mode": {
    "name": "ipython",
    "version": 3
   },
   "file_extension": ".py",
   "mimetype": "text/x-python",
   "name": "python",
   "nbconvert_exporter": "python",
   "pygments_lexer": "ipython3",
   "version": "3.5.2"
  }
 },
 "nbformat": 4,
 "nbformat_minor": 1
}
