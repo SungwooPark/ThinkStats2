{
 "cells": [
  {
   "cell_type": "markdown",
   "metadata": {},
   "source": [
    "# Data Science Report 1"
   ]
  },
  {
   "cell_type": "markdown",
   "metadata": {},
   "source": [
    "This is a Jupyter notebook that contains the code for data analysis described in *Money \"might\" buy you some happiness* report. The dataset used in this code can be found at [GSS webstite](http://gss.norc.org/get-the-data/stata)."
   ]
  },
  {
   "cell_type": "code",
   "execution_count": 3,
   "metadata": {
    "collapsed": false
   },
   "outputs": [],
   "source": [
    "import thinkstats2\n",
    "import pandas\n",
    "import thinkplot\n",
    "\n",
    "%matplotlib inline"
   ]
  },
  {
   "cell_type": "code",
   "execution_count": 4,
   "metadata": {
    "collapsed": false
   },
   "outputs": [],
   "source": [
    "df = pandas.read_csv('GSS.dat', sep='\\s+', header=None, skiprows=1)"
   ]
  },
  {
   "cell_type": "code",
   "execution_count": 5,
   "metadata": {
    "collapsed": false
   },
   "outputs": [],
   "source": [
    "df.columns = [\"resp_yr\",\"resp_id\",\"school_years\",\"fam_inc\",\"gen_happy\",\"mar_happy\",\"part_happy\",\"work_imp\",\"dep\"]"
   ]
  },
  {
   "cell_type": "code",
   "execution_count": 6,
   "metadata": {
    "collapsed": false
   },
   "outputs": [],
   "source": [
    "#Divide people into different income group and get rid of invalid response\n",
    "high_income = df[(df.fam_inc >= 21) & ((df.fam_inc != 26) & (df.fam_inc != 98) & (df.fam_inc != 99))]\n",
    "low_income = df[df.fam_inc <= 11]\n",
    "\n",
    "#Get rid of invalid responses on gen_happy column\n",
    "high_income = high_income[(high_income.gen_happy != 9) & (high_income.gen_happy != 8) & (high_income.gen_happy != 0)]\n",
    "low_income = low_income[(low_income.gen_happy != 9) & (low_income.gen_happy != 8) & (low_income.gen_happy != 0)]"
   ]
  },
  {
   "cell_type": "code",
   "execution_count": 7,
   "metadata": {
    "collapsed": false
   },
   "outputs": [],
   "source": [
    "high_income_gen_happy_pmf = thinkstats2.Pmf(high_income.gen_happy)\n",
    "\n",
    "low_income_gen_happy_pmf = thinkstats2.Pmf(low_income.gen_happy)"
   ]
  },
  {
   "cell_type": "code",
   "execution_count": 8,
   "metadata": {
    "collapsed": false
   },
   "outputs": [
    {
     "data": {
      "image/png": "[encoded data removed]",
      "text/plain": [
       "<matplotlib.figure.Figure at 0x7f473188c6a0>"
      ]
     },
     "metadata": {},
     "output_type": "display_data"
    }
   ],
   "source": [
    "thinkplot.PrePlot(2)\n",
    "thinkplot.pmf(high_income_gen_happy_pmf, label=\"high income\")\n",
    "thinkplot.pmf(low_income_gen_happy_pmf, label=\"low income\")\n",
    "thinkplot.Config(xlabel='General happiness level', ylabel='PMF')"
   ]
  },
  {
   "cell_type": "markdown",
   "metadata": {
    "collapsed": false
   },
   "source": [
    "Respondents to the survey rated their general happiness level from scale of 1 to 3, 1 being very happy and 3 being not too happy. Cdf graphs of general happiness level of high income group and low income group suggest that more fraction of people are happier in high income group compared to low income group."
   ]
  },
  {
   "cell_type": "code",
   "execution_count": 9,
   "metadata": {
    "collapsed": false
   },
   "outputs": [
    {
     "name": "stdout",
     "output_type": "stream",
     "text": [
      "Mean of general happiness value in high income group:  1.6736990154711673\n",
      "Mean of general happiness value in low income group:  2.0023923444976077\n"
     ]
    }
   ],
   "source": [
    "print(\"Mean of general happiness value in high income group: \", high_income.gen_happy.mean())\n",
    "print(\"Mean of general happiness value in low income group: \", low_income.gen_happy.mean())"
   ]
  },
  {
   "cell_type": "markdown",
   "metadata": {
    "collapsed": false
   },
   "source": [
    "Mean of general happiness value in the two groups clearly suggests that people in low-income group tend to be unhappier."
   ]
  },
  {
   "cell_type": "markdown",
   "metadata": {
    "collapsed": false
   },
   "source": [
    "## Marriage happiness"
   ]
  },
  {
   "cell_type": "code",
   "execution_count": 10,
   "metadata": {
    "collapsed": true
   },
   "outputs": [],
   "source": [
    "#Divide people into different income group\n",
    "high_income = df[(df.fam_inc >= 21) & ((df.fam_inc != 26) & (df.fam_inc != 98) & (df.fam_inc != 99))]\n",
    "low_income = df[df.fam_inc <= 11]\n",
    "\n",
    "#Get rid of invalid responses on mar_happy column\n",
    "\n",
    "#This procedure is repeated because some people who provided invalid response to general happiness question but\n",
    "#provided valid response to marriage happiness question are excluded if I continue using same 'high_income', and\n",
    "#'low_income' variable that I used above\n",
    "high_income = high_income[(high_income.mar_happy != 9) & (high_income.mar_happy != 8) & (high_income.mar_happy != 0)]\n",
    "low_income = low_income[(low_income.mar_happy != 9) & (low_income.mar_happy != 8) & (low_income.mar_happy != 0)]\n",
    "\n",
    "high_income_mar_happy_pmf = thinkstats2.Pmf(high_income.mar_happy)\n",
    "\n",
    "low_income_mar_happy_pmf = thinkstats2.Pmf(low_income.mar_happy)"
   ]
  },
  {
   "cell_type": "code",
   "execution_count": 11,
   "metadata": {
    "collapsed": false
   },
   "outputs": [
    {
     "data": {
      "image/png": "[encoded data removed]",
      "text/plain": [
       "<matplotlib.figure.Figure at 0x7f473188c6d8>"
      ]
     },
     "metadata": {},
     "output_type": "display_data"
    }
   ],
   "source": [
    "thinkplot.PrePlot(2)\n",
    "thinkplot.pmf(high_income_mar_happy_pmf, label=\"high income\")\n",
    "thinkplot.pmf(low_income_mar_happy_pmf, label=\"low income\")\n",
    "thinkplot.Config(xlabel='Marriage happiness level', ylabel='PMF', loc=\"upper right\")"
   ]
  },
  {
   "cell_type": "markdown",
   "metadata": {},
   "source": [
    "Cdfs suggest that more fraction of people in high income group are happier in their marriage compared to low income group. However, this difference is relatively small compared to the difference in general happiness."
   ]
  },
  {
   "cell_type": "code",
   "execution_count": 12,
   "metadata": {
    "collapsed": false
   },
   "outputs": [
    {
     "name": "stdout",
     "output_type": "stream",
     "text": [
      "Mean of marriage happiness value in high income group:  1.3898635477582846\n",
      "Mean of marriage happiness value in low income group:  1.5\n"
     ]
    }
   ],
   "source": [
    "print(\"Mean of marriage happiness value in high income group: \", high_income.mar_happy.mean())\n",
    "print(\"Mean of marriage happiness value in low income group: \", low_income.mar_happy.mean())"
   ]
  },
  {
   "cell_type": "markdown",
   "metadata": {},
   "source": [
    "## Feeling of accomplishment "
   ]
  },
  {
   "cell_type": "markdown",
   "metadata": {},
   "source": [
    "The survey asked how much people valued the feeling of accomplishment and the job being important in their job."
   ]
  },
  {
   "cell_type": "code",
   "execution_count": 13,
   "metadata": {
    "collapsed": true
   },
   "outputs": [],
   "source": [
    "#Divide people into different income group and get rid of invalid response\n",
    "high_income = df[(df.fam_inc >= 21) & ((df.fam_inc != 26) & (df.fam_inc != 98) & (df.fam_inc != 99))]\n",
    "low_income = df[df.fam_inc <= 11]\n",
    "\n",
    "#Get rid of invalid responses\n",
    "high_income = high_income[(high_income.work_imp != 9) & (high_income.work_imp != 8) & (high_income.work_imp != 0)]\n",
    "low_income = low_income[(low_income.work_imp != 9) & (low_income.work_imp != 8) & (low_income.work_imp != 0)]\n",
    "\n",
    "high_income_work_imp_pmf = thinkstats2.Pmf(high_income.work_imp)\n",
    "\n",
    "low_income_work_imp_pmf = thinkstats2.Pmf(low_income.work_imp)"
   ]
  },
  {
   "cell_type": "code",
   "execution_count": 14,
   "metadata": {
    "collapsed": false
   },
   "outputs": [
    {
     "data": {
      "image/png": "[encoded data removed]",
      "text/plain": [
       "<matplotlib.figure.Figure at 0x7f472edb6208>"
      ]
     },
     "metadata": {},
     "output_type": "display_data"
    }
   ],
   "source": [
    "thinkplot.PrePlot(2)\n",
    "thinkplot.pmf(high_income_work_imp_pmf, label=\"high income\")\n",
    "thinkplot.pmf(low_income_work_imp_pmf, label=\"low income\")\n",
    "thinkplot.Config(xlabel='\"Work important\" Value', ylabel='PMF', loc=\"upper right\")"
   ]
  },
  {
   "cell_type": "markdown",
   "metadata": {},
   "source": [
    "The respondents were asked to rank which aspects of their job they valued the most. The five given aspects were income level, number of hours worked, chance of promotion, job security, and the perceived importance and accomplishment of the job. The above cdf is the respondents' rank of the 'job importance'.\n",
    "\n",
    "1 represents that a respondent value the feeling of accomplishment and importance the most in their job. 5 represent that a respondent value this quality the least.\n",
    "\n",
    "Cdf suggests that the people in high income group value the feeling of accomplishment and important in their job more than the people in low income group."
   ]
  },
  {
   "cell_type": "code",
   "execution_count": 15,
   "metadata": {
    "collapsed": false
   },
   "outputs": [
    {
     "name": "stdout",
     "output_type": "stream",
     "text": [
      "Mean of work importance value in high income group:  1.9154518950437318\n",
      "Mean of work importance value in low income group:  2.515\n"
     ]
    }
   ],
   "source": [
    "print(\"Mean of work importance value in high income group: \", high_income.work_imp.mean())\n",
    "print(\"Mean of work importance value in low income group: \", low_income.work_imp.mean())"
   ]
  },
  {
   "cell_type": "markdown",
   "metadata": {},
   "source": [
    "The mean values of the two groups supports the same conclusion."
   ]
  },
  {
   "cell_type": "code",
   "execution_count": null,
   "metadata": {
    "collapsed": true
   },
   "outputs": [],
   "source": []
  }
 ],
 "metadata": {
  "anaconda-cloud": {},
  "kernelspec": {
   "display_name": "Python [conda root]",
   "language": "python",
   "name": "conda-root-py"
  },
  "language_info": {
   "codemirror_mode": {
    "name": "ipython",
    "version": 3
   },
   "file_extension": ".py",
   "mimetype": "text/x-python",
   "name": "python",
   "nbconvert_exporter": "python",
   "pygments_lexer": "ipython3",
   "version": "3.5.2"
  }
 },
 "nbformat": 4,
 "nbformat_minor": 1
}
